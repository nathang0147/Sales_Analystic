{
 "cells": [
  {
   "cell_type": "code",
   "metadata": {
    "jupyter": {
     "is_executing": true
    }
   },
   "source": [
    "from pyspark.sql import SparkSession\n",
    "from pyspark.sql.functions import col, when, isnan, count, min, max, mean, stddev, trim, regexp_replace, to_date\n",
    "from pyspark.sql.types import StructType, StructField, IntegerType, DoubleType, StringType, DateType\n",
    "from pyspark.sql.window import Window\n",
    "from pyspark.sql import functions as F"
   ],
   "outputs": [],
   "execution_count": null
  },
  {
   "cell_type": "code",
   "execution_count": 149,
   "metadata": {},
   "outputs": [],
   "source": [
    "# Initialize Spark Session\n",
    "spark = SparkSession.builder \\\n",
    "    .appName(\"Sales Data Preparation\") \\\n",
    "    .getOrCreate()"
   ]
  },
  {
   "cell_type": "markdown",
   "metadata": {},
   "source": [
    "### Load the data into DataFrame and have a glimse "
   ]
  },
  {
   "cell_type": "code",
   "execution_count": 150,
   "metadata": {},
   "outputs": [
    {
     "name": "stderr",
     "output_type": "stream",
     "text": [
      "24/12/05 21:07:13 WARN CacheManager: Asked to cache already cached data.\n"
     ]
    },
    {
     "data": {
      "text/plain": [
       "DataFrame[ORDERNUMBER: int, QUANTITYORDERED: int, PRICEEACH: double, ORDERLINENUMBER: int, SALES: double, ORDERDATE: date, STATUS: string, QTR_ID: int, MONTH_ID: int, YEAR_ID: int, PRODUCTLINE: string, MSRP: int, PRODUCTCODE: string, CUSTOMERNAME: string, PHONE: string, ADDRESSLINE1: string, ADDRESSLINE2: string, CITY: string, STATE: string, POSTALCODE: string, COUNTRY: string, TERRITORY: string, CONTACTLASTNAME: string, CONTACTFIRSTNAME: string, DEALSIZE: string]"
      ]
     },
     "execution_count": 150,
     "metadata": {},
     "output_type": "execute_result"
    }
   ],
   "source": [
    "# Load the CSV file into a DataFrame\n",
    "df = spark.read.format(\"csv\") \\\n",
    "    .option(\"header\", \"true\") \\\n",
    "    .schema(schema) \\\n",
    "    .load(\"data/raw/sales_data_sample.csv\")\n",
    "\n",
    "# Cache the DataFrame for better performance in subsequent operations\n",
    "df.cache()"
   ]
  },
  {
   "cell_type": "code",
   "execution_count": 151,
   "metadata": {},
   "outputs": [
    {
     "name": "stdout",
     "output_type": "stream",
     "text": [
      "+-----------+---------------+---------+---------------+-------+---------+-------+------+--------+-------+-----------+----+-----------+--------------------+----------------+--------------------+------------+-------------+-----+----------+-------+---------+---------------+----------------+--------+\n",
      "|ORDERNUMBER|QUANTITYORDERED|PRICEEACH|ORDERLINENUMBER|  SALES|ORDERDATE| STATUS|QTR_ID|MONTH_ID|YEAR_ID|PRODUCTLINE|MSRP|PRODUCTCODE|        CUSTOMERNAME|           PHONE|        ADDRESSLINE1|ADDRESSLINE2|         CITY|STATE|POSTALCODE|COUNTRY|TERRITORY|CONTACTLASTNAME|CONTACTFIRSTNAME|DEALSIZE|\n",
      "+-----------+---------------+---------+---------------+-------+---------+-------+------+--------+-------+-----------+----+-----------+--------------------+----------------+--------------------+------------+-------------+-----+----------+-------+---------+---------------+----------------+--------+\n",
      "|      10107|             30|     95.7|              2| 2871.0|     NULL|Shipped|     1|       2|   2003|Motorcycles|  95|   S10_1678|   Land of Toys Inc.|      2125557818|897 Long Airport ...|        NULL|          NYC|   NY|     10022|    USA|       NA|             Yu|            Kwai|   Small|\n",
      "|      10121|             34|    81.35|              5| 2765.9|     NULL|Shipped|     2|       5|   2003|Motorcycles|  95|   S10_1678|  Reims Collectables|      26.47.1555|  59 rue de l'Abbaye|        NULL|        Reims| NULL|     51100| France|     EMEA|        Henriot|            Paul|   Small|\n",
      "|      10134|             41|    94.74|              2|3884.34|     NULL|Shipped|     3|       7|   2003|Motorcycles|  95|   S10_1678|     Lyon Souveniers|+33 1 46 62 7555|27 rue du Colonel...|        NULL|        Paris| NULL|     75508| France|     EMEA|       Da Cunha|          Daniel|  Medium|\n",
      "|      10145|             45|    83.26|              6| 3746.7|     NULL|Shipped|     3|       8|   2003|Motorcycles|  95|   S10_1678|   Toys4GrownUps.com|      6265557265|  78934 Hillside Dr.|        NULL|     Pasadena|   CA|     90003|    USA|       NA|          Young|           Julie|  Medium|\n",
      "|      10159|             49|    100.0|             14|5205.27|     NULL|Shipped|     4|      10|   2003|Motorcycles|  95|   S10_1678|Corporate Gift Id...|      6505551386|     7734 Strong St.|        NULL|San Francisco|   CA|      NULL|    USA|       NA|          Brown|           Julie|  Medium|\n",
      "|      10168|             36|    96.66|              1|3479.76|     NULL|Shipped|     4|      10|   2003|Motorcycles|  95|   S10_1678|Technics Stores Inc.|      6505556809|   9408 Furth Circle|        NULL|   Burlingame|   CA|     94217|    USA|       NA|         Hirano|            Juri|  Medium|\n",
      "|      10180|             29|    86.13|              9|2497.77|     NULL|Shipped|     4|      11|   2003|Motorcycles|  95|   S10_1678|Daedalus Designs ...|      20.16.1555|184, chausse de T...|        NULL|        Lille| NULL|     59000| France|     EMEA|          Rance|         Martine|   Small|\n",
      "|      10188|             48|    100.0|              1|5512.32|     NULL|Shipped|     4|      11|   2003|Motorcycles|  95|   S10_1678|        Herkku Gifts|   +47 2267 3215|Drammen 121, PR 7...|        NULL|       Bergen| NULL|    N 5804| Norway|     EMEA|         Oeztan|          Veysel|  Medium|\n",
      "|      10201|             22|    98.57|              2|2168.54|     NULL|Shipped|     4|      12|   2003|Motorcycles|  95|   S10_1678|     Mini Wheels Co.|      6505555787|5557 North Pendal...|        NULL|San Francisco|   CA|      NULL|    USA|       NA|         Murphy|           Julie|   Small|\n",
      "|      10211|             41|    100.0|             14|4708.44|     NULL|Shipped|     1|       1|   2004|Motorcycles|  95|   S10_1678|    Auto Canal Petit|  (1) 47.55.6555|   25, rue Lauriston|        NULL|        Paris| NULL|     75016| France|     EMEA|        Perrier|       Dominique|  Medium|\n",
      "+-----------+---------------+---------+---------------+-------+---------+-------+------+--------+-------+-----------+----+-----------+--------------------+----------------+--------------------+------------+-------------+-----+----------+-------+---------+---------------+----------------+--------+\n",
      "only showing top 10 rows\n",
      "\n"
     ]
    }
   ],
   "source": [
    "df.show(10)"
   ]
  },
  {
   "cell_type": "code",
   "execution_count": 152,
   "metadata": {},
   "outputs": [
    {
     "name": "stdout",
     "output_type": "stream",
     "text": [
      "+-------+------------------+-----------------+------------------+-----------------+------------------+---------+------------------+------------------+------------------+------------+------------------+-----------+-----------------+--------------------+--------------------+------------+------------+--------+------------------+---------+---------+---------------+----------------+--------+\n",
      "|summary|       ORDERNUMBER|  QUANTITYORDERED|         PRICEEACH|  ORDERLINENUMBER|             SALES|   STATUS|            QTR_ID|          MONTH_ID|           YEAR_ID| PRODUCTLINE|              MSRP|PRODUCTCODE|     CUSTOMERNAME|               PHONE|        ADDRESSLINE1|ADDRESSLINE2|        CITY|   STATE|        POSTALCODE|  COUNTRY|TERRITORY|CONTACTLASTNAME|CONTACTFIRSTNAME|DEALSIZE|\n",
      "+-------+------------------+-----------------+------------------+-----------------+------------------+---------+------------------+------------------+------------------+------------+------------------+-----------+-----------------+--------------------+--------------------+------------+------------+--------+------------------+---------+---------+---------------+----------------+--------+\n",
      "|  count|              2823|             2823|              2823|             2823|              2823|     2823|              2823|              2823|              2823|        2823|              2823|       2823|             2823|                2823|                2823|         302|        2823|    1337|              2747|     2823|     2823|           2823|            2823|    2823|\n",
      "|   mean|10258.725115125753|35.09280906836698| 83.65854410201929|6.466170740347148|  3553.88907190932|     NULL|2.7176762309599716|7.0924548352816155|2003.8150903294368|        NULL|100.71555083244775|       NULL|             NULL| 4.443333969582669E9|                NULL|        NULL|        NULL|    NULL|46823.061787905346|     NULL|     NULL|           NULL|            NULL|    NULL|\n",
      "| stddev|  92.0854775957196| 9.74144273706958|20.174276527840536| 4.22584096469094|1841.8651057401842|     NULL| 1.203878088001756| 3.656633307661765|0.6996701541300869|        NULL| 40.18791167720266|       NULL|             NULL|1.9551944712750926E9|                NULL|        NULL|        NULL|    NULL| 33486.50903171618|     NULL|     NULL|           NULL|            NULL|    NULL|\n",
      "|    min|             10100|                6|             26.88|                1|            482.13|Cancelled|                 1|                 1|              2003|Classic Cars|                33|   S10_1678|   AV Stores, Co.|        (02) 5554 67|1 rue Alsace-Lorr...|   2nd Floor|     Aaarhus|      BC|             10022|Australia|     APAC|        Accorti|          Adrian|   Large|\n",
      "|    max|             10425|               97|             100.0|               18|           14082.8|  Shipped|                 4|                12|              2005|Vintage Cars|               214|   S72_3212|giftsbymail.co.uk|          981-443655|        Vinb'ltet 34|   Suite 750|White Plains|Victoria|           WX3 6FW|      USA|       NA|             Yu|           Yoshi|   Small|\n",
      "+-------+------------------+-----------------+------------------+-----------------+------------------+---------+------------------+------------------+------------------+------------+------------------+-----------+-----------------+--------------------+--------------------+------------+------------+--------+------------------+---------+---------+---------------+----------------+--------+\n",
      "\n"
     ]
    }
   ],
   "source": [
    "df.describe().show()"
   ]
  },
  {
   "cell_type": "code",
   "execution_count": 153,
   "metadata": {},
   "outputs": [
    {
     "name": "stdout",
     "output_type": "stream",
     "text": [
      "DataFrame Schema:\n",
      "root\n",
      " |-- ORDERNUMBER: integer (nullable = true)\n",
      " |-- QUANTITYORDERED: integer (nullable = true)\n",
      " |-- PRICEEACH: double (nullable = true)\n",
      " |-- ORDERLINENUMBER: integer (nullable = true)\n",
      " |-- SALES: double (nullable = true)\n",
      " |-- ORDERDATE: date (nullable = true)\n",
      " |-- STATUS: string (nullable = true)\n",
      " |-- QTR_ID: integer (nullable = true)\n",
      " |-- MONTH_ID: integer (nullable = true)\n",
      " |-- YEAR_ID: integer (nullable = true)\n",
      " |-- PRODUCTLINE: string (nullable = true)\n",
      " |-- MSRP: integer (nullable = true)\n",
      " |-- PRODUCTCODE: string (nullable = true)\n",
      " |-- CUSTOMERNAME: string (nullable = true)\n",
      " |-- PHONE: string (nullable = true)\n",
      " |-- ADDRESSLINE1: string (nullable = true)\n",
      " |-- ADDRESSLINE2: string (nullable = true)\n",
      " |-- CITY: string (nullable = true)\n",
      " |-- STATE: string (nullable = true)\n",
      " |-- POSTALCODE: string (nullable = true)\n",
      " |-- COUNTRY: string (nullable = true)\n",
      " |-- TERRITORY: string (nullable = true)\n",
      " |-- CONTACTLASTNAME: string (nullable = true)\n",
      " |-- CONTACTFIRSTNAME: string (nullable = true)\n",
      " |-- DEALSIZE: string (nullable = true)\n",
      "\n"
     ]
    }
   ],
   "source": [
    "# Show the first few rows and schema\n",
    "print(\"DataFrame Schema:\")\n",
    "df.printSchema()"
   ]
  },
  {
   "cell_type": "markdown",
   "metadata": {},
   "source": [
    "### Handle NULL values"
   ]
  },
  {
   "cell_type": "code",
   "execution_count": 154,
   "metadata": {},
   "outputs": [
    {
     "name": "stdout",
     "output_type": "stream",
     "text": [
      "ORDERDATE: 2823 null values\n",
      "ADDRESSLINE2: 2521 null values\n",
      "STATE: 1486 null values\n",
      "POSTALCODE: 76 null values\n"
     ]
    }
   ],
   "source": [
    "# Get counts of null values for each column\n",
    "null_counts = df.select([count(when(col(c).isNull() | (col(c) == \"\"), c)).alias(c) for c in df.columns])\n",
    "\n",
    "# Convert to rows and filter only columns with null values\n",
    "for item in null_counts.collect()[0].asDict().items():\n",
    "    if item[1] > 0:\n",
    "        print(f\"{item[0]}: {item[1]} null values\")"
   ]
  },
  {
   "cell_type": "markdown",
   "metadata": {},
   "source": [
    "Because \"ORDERDATE\" columns all has NULL value and we dont have any clude to fill the null value, so we decie to drop it out"
   ]
  },
  {
   "cell_type": "code",
   "execution_count": 155,
   "metadata": {},
   "outputs": [
    {
     "name": "stdout",
     "output_type": "stream",
     "text": [
      "+-----------+---------------+---------+---------------+-------+-------+------+--------+-------+-----------+----+-----------+--------------------+----------------+--------------------+------------+-------------+-----+----------+-------+---------+---------------+----------------+--------+\n",
      "|ORDERNUMBER|QUANTITYORDERED|PRICEEACH|ORDERLINENUMBER|  SALES| STATUS|QTR_ID|MONTH_ID|YEAR_ID|PRODUCTLINE|MSRP|PRODUCTCODE|        CUSTOMERNAME|           PHONE|        ADDRESSLINE1|ADDRESSLINE2|         CITY|STATE|POSTALCODE|COUNTRY|TERRITORY|CONTACTLASTNAME|CONTACTFIRSTNAME|DEALSIZE|\n",
      "+-----------+---------------+---------+---------------+-------+-------+------+--------+-------+-----------+----+-----------+--------------------+----------------+--------------------+------------+-------------+-----+----------+-------+---------+---------------+----------------+--------+\n",
      "|      10107|             30|     95.7|              2| 2871.0|Shipped|     1|       2|   2003|Motorcycles|  95|   S10_1678|   Land of Toys Inc.|      2125557818|897 Long Airport ...|        NULL|          NYC|   NY|     10022|    USA|       NA|             Yu|            Kwai|   Small|\n",
      "|      10121|             34|    81.35|              5| 2765.9|Shipped|     2|       5|   2003|Motorcycles|  95|   S10_1678|  Reims Collectables|      26.47.1555|  59 rue de l'Abbaye|        NULL|        Reims| NULL|     51100| France|     EMEA|        Henriot|            Paul|   Small|\n",
      "|      10134|             41|    94.74|              2|3884.34|Shipped|     3|       7|   2003|Motorcycles|  95|   S10_1678|     Lyon Souveniers|+33 1 46 62 7555|27 rue du Colonel...|        NULL|        Paris| NULL|     75508| France|     EMEA|       Da Cunha|          Daniel|  Medium|\n",
      "|      10145|             45|    83.26|              6| 3746.7|Shipped|     3|       8|   2003|Motorcycles|  95|   S10_1678|   Toys4GrownUps.com|      6265557265|  78934 Hillside Dr.|        NULL|     Pasadena|   CA|     90003|    USA|       NA|          Young|           Julie|  Medium|\n",
      "|      10159|             49|    100.0|             14|5205.27|Shipped|     4|      10|   2003|Motorcycles|  95|   S10_1678|Corporate Gift Id...|      6505551386|     7734 Strong St.|        NULL|San Francisco|   CA|      NULL|    USA|       NA|          Brown|           Julie|  Medium|\n",
      "+-----------+---------------+---------+---------------+-------+-------+------+--------+-------+-----------+----+-----------+--------------------+----------------+--------------------+------------+-------------+-----+----------+-------+---------+---------------+----------------+--------+\n",
      "only showing top 5 rows\n",
      "\n"
     ]
    }
   ],
   "source": [
    "df = df.drop(\"ORDERDATE\")\n",
    "df.show(5)"
   ]
  },
  {
   "cell_type": "markdown",
   "metadata": {},
   "source": [
    "the \"ADDRESSLINE2\" column,first we need to check if the unique value come from one person for each address or not"
   ]
  },
  {
   "cell_type": "code",
   "execution_count": 156,
   "metadata": {},
   "outputs": [
    {
     "name": "stdout",
     "output_type": "stream",
     "text": [
      "+------------+---------------+-----+\n",
      "|ADDRESSLINE2|PHONE          |count|\n",
      "+------------+---------------+-----+\n",
      "|Level 3     |03 9520 4555   |55   |\n",
      "|Suite 400   |2125557413     |48   |\n",
      "|Level 15    |02 9936 8555   |46   |\n",
      "|Level 6     |+61 2 9495 8555|46   |\n",
      "|2nd Floor   |+65 224 1555   |36   |\n",
      "|Suite 101   |2125551500     |25   |\n",
      "|Suite 750   |2125558493     |20   |\n",
      "|Floor No. 4 |+353 1862 1555 |16   |\n",
      "|Suite 200   |2125551957     |10   |\n",
      "+------------+---------------+-----+\n",
      "\n"
     ]
    }
   ],
   "source": [
    "df.filter((col(\"ADDRESSLINE2\").isNotNull()) & (col(\"PHONE\").isNotNull()) & (col(\"ADDRESSLINE2\") != \"\")) \\\n",
    "  .groupBy(\"ADDRESSLINE2\", \"PHONE\") \\\n",
    "  .count() \\\n",
    "  .orderBy(\"count\", ascending=False) \\\n",
    "  .show(truncate=False)"
   ]
  },
  {
   "cell_type": "markdown",
   "metadata": {},
   "source": [
    "We replace the NULL value to \"NOT PROVIDED\" value"
   ]
  },
  {
   "cell_type": "code",
   "execution_count": 157,
   "metadata": {},
   "outputs": [
    {
     "name": "stdout",
     "output_type": "stream",
     "text": [
      "+------------+-----+\n",
      "|ADDRESSLINE2|count|\n",
      "+------------+-----+\n",
      "|NOT PROVIDED|2521 |\n",
      "|Level 3     |55   |\n",
      "|Suite 400   |48   |\n",
      "|Level 6     |46   |\n",
      "|Level 15    |46   |\n",
      "|2nd Floor   |36   |\n",
      "|Suite 101   |25   |\n",
      "|Suite 750   |20   |\n",
      "|Floor No. 4 |16   |\n",
      "|Suite 200   |10   |\n",
      "+------------+-----+\n",
      "\n"
     ]
    }
   ],
   "source": [
    "df = df.fillna(\"NOT PROVIDED\", subset=[\"ADDRESSLINE2\"])\n",
    "\n",
    "#Verify the change\n",
    "df.groupBy(\"ADDRESSLINE2\").count().orderBy(\"count\", ascending=False).show(truncate=False)"
   ]
  },
  {
   "cell_type": "markdown",
   "metadata": {},
   "source": [
    "With each state has NULL, we will replace by the equivalent CITY name "
   ]
  },
  {
   "cell_type": "code",
   "execution_count": 158,
   "metadata": {},
   "outputs": [
    {
     "name": "stdout",
     "output_type": "stream",
     "text": [
      "+-------------+--------+\n",
      "|CITY         |STATE   |\n",
      "+-------------+--------+\n",
      "|NYC          |NY      |\n",
      "|Reims        |Reims   |\n",
      "|Paris        |Paris   |\n",
      "|Pasadena     |CA      |\n",
      "|San Francisco|CA      |\n",
      "|Burlingame   |CA      |\n",
      "|Lille        |Lille   |\n",
      "|Bergen       |Bergen  |\n",
      "|San Francisco|CA      |\n",
      "|Paris        |Paris   |\n",
      "|Melbourne    |Victoria|\n",
      "|NYC          |NY      |\n",
      "|Newark       |NJ      |\n",
      "|Bridgewater  |CT      |\n",
      "|Nantes       |Nantes  |\n",
      "|Cambridge    |MA      |\n",
      "|Helsinki     |Helsinki|\n",
      "|Stavern      |Stavern |\n",
      "|Allentown    |PA      |\n",
      "|NYC          |NY      |\n",
      "+-------------+--------+\n",
      "only showing top 20 rows\n",
      "\n"
     ]
    }
   ],
   "source": [
    "df = df.withColumn(\"STATE\", \n",
    "    when(col(\"STATE\").isNull(), col(\"CITY\"))\n",
    "    .otherwise(col(\"STATE\")))\n",
    "\n",
    "# To verify the changes, let's see the STATE and CITY columns together\n",
    "df.select(\"CITY\", \"STATE\").show(truncate=False)"
   ]
  },
  {
   "cell_type": "code",
   "execution_count": 159,
   "metadata": {},
   "outputs": [
    {
     "name": "stdout",
     "output_type": "stream",
     "text": [
      "+-------------+-------+\n",
      "|         CITY|COUNTRY|\n",
      "+-------------+-------+\n",
      "|San Francisco|    USA|\n",
      "|San Francisco|    USA|\n",
      "|San Francisco|    USA|\n",
      "|San Francisco|    USA|\n",
      "|San Francisco|    USA|\n",
      "|San Francisco|    USA|\n",
      "|San Francisco|    USA|\n",
      "|San Francisco|    USA|\n",
      "|  Los Angeles|    USA|\n",
      "|San Francisco|    USA|\n",
      "|San Francisco|    USA|\n",
      "|San Francisco|    USA|\n",
      "|San Francisco|    USA|\n",
      "|San Francisco|    USA|\n",
      "|San Francisco|    USA|\n",
      "|San Francisco|    USA|\n",
      "|  Los Angeles|    USA|\n",
      "|San Francisco|    USA|\n",
      "|  Los Angeles|    USA|\n",
      "|San Francisco|    USA|\n",
      "+-------------+-------+\n",
      "only showing top 20 rows\n",
      "\n"
     ]
    }
   ],
   "source": [
    "# See how many null postal codes we have\n",
    "df.filter(col(\"POSTALCODE\").isNull()).count()\n",
    "\n",
    "# See which cities have null postal codes\n",
    "df.filter(col(\"POSTALCODE\").isNull()).select(\"CITY\", \"COUNTRY\").show()"
   ]
  },
  {
   "cell_type": "code",
   "execution_count": 160,
   "metadata": {},
   "outputs": [],
   "source": [
    "# Create a window spec for each City-State combination\n",
    "window_spec = Window.partitionBy('CITY', 'STATE')"
   ]
  },
  {
   "cell_type": "code",
   "execution_count": 161,
   "metadata": {},
   "outputs": [],
   "source": [
    "# Find the most common postal code for each City-State combination\n",
    "postal_mapping = df.filter(F.col('POSTALCODE').isNotNull()) \\\n",
    "    .groupBy('CITY', 'STATE', 'POSTALCODE') \\\n",
    "    .count() \\\n",
    "    .withColumn('rank', F.row_number().over(Window.partitionBy('CITY', 'STATE').orderBy(F.desc('count')))) \\\n",
    "    .filter(F.col('rank') == 1) \\\n",
    "    .select('CITY', 'STATE', F.col('POSTALCODE').alias('MAPPED_POSTALCODE'))\n",
    "\n",
    "# Join the mapping back to original dataframe\n",
    "df_filled = df.join(postal_mapping, ['CITY', 'STATE'], 'left')\n",
    "\n",
    "# Use coalesce to keep original postal code if it exists, otherwise use the mapped one\n",
    "df_filled = df_filled.withColumn(\n",
    "    'POSTALCODE',\n",
    "    F.when(F.col('POSTALCODE').isNotNull(), F.col('POSTALCODE'))\n",
    "    .when(F.col('MAPPED_POSTALCODE').isNotNull(), F.col('MAPPED_POSTALCODE'))\n",
    "    .otherwise(F.concat(F.coalesce(F.col('STATE'), F.lit('')), F.lit('00000')))\n",
    ")\n",
    "\n",
    "# Drop the extra postal code column\n",
    "df_filled = df_filled.drop('MAPPED_POSTALCODE')\n",
    "df=df_filled\n"
   ]
  },
  {
   "cell_type": "code",
   "execution_count": 162,
   "metadata": {},
   "outputs": [
    {
     "name": "stdout",
     "output_type": "stream",
     "text": [
      "Sample of filled postal codes:\n",
      "+----+-----+----------+\n",
      "|CITY|STATE|POSTALCODE|\n",
      "+----+-----+----------+\n",
      "+----+-----+----------+\n",
      "\n",
      "\n",
      "Number of remaining null postal codes: 0\n"
     ]
    }
   ],
   "source": [
    "# Show statistics\n",
    "print(\"Sample of filled postal codes:\")\n",
    "df_filled.filter(df.POSTALCODE.isNull()).select('CITY', 'STATE', 'POSTALCODE').show(5)\n",
    "\n",
    "# Count of filled values\n",
    "null_count = df_filled.filter(df.POSTALCODE.isNull()).count()\n",
    "print(f\"\\nNumber of remaining null postal codes: {null_count}\")"
   ]
  },
  {
   "cell_type": "code",
   "execution_count": 163,
   "metadata": {},
   "outputs": [],
   "source": [
    "df_filled.write.mode('overwrite').csv('sales_data_updated.csv', header=True)"
   ]
  },
  {
   "cell_type": "markdown",
   "metadata": {},
   "source": [
    "### HANDLE OUTLIERS IN NUMERIC COLUMNS"
   ]
  },
  {
   "cell_type": "code",
   "execution_count": 164,
   "metadata": {},
   "outputs": [],
   "source": [
    "# Define numeric columns relevant for outlier analysis\n",
    "numeric_cols = ['QUANTITYORDERED', 'PRICEEACH', 'SALES', 'MSRP']"
   ]
  },
  {
   "cell_type": "code",
   "execution_count": 165,
   "metadata": {},
   "outputs": [
    {
     "name": "stdout",
     "output_type": "stream",
     "text": [
      "\n",
      "Outlier Analysis for QUANTITYORDERED\n",
      "Lower Bound: 3.00\n",
      "Upper Bound: 67.00\n",
      "Number of outliers: 8\n",
      "Percentage of outliers: 0.28%\n",
      "\n",
      "Sample outliers:\n",
      "+-----------+---------------+----------------+--------+\n",
      "|ORDERNUMBER|QUANTITYORDERED|     PRODUCTLINE|DEALSIZE|\n",
      "+-----------+---------------+----------------+--------+\n",
      "|      10405|             97|    Classic Cars|   Large|\n",
      "|      10407|             76|    Vintage Cars|   Large|\n",
      "|      10412|             70|Trucks and Buses|   Large|\n",
      "|      10407|             76|    Classic Cars|   Large|\n",
      "|      10405|             76|    Classic Cars|   Large|\n",
      "+-----------+---------------+----------------+--------+\n",
      "only showing top 5 rows\n",
      "\n",
      "\n",
      "Outlier Analysis for PRICEEACH\n",
      "Lower Bound: 23.20\n",
      "Upper Bound: 146.08\n",
      "Number of outliers: 0\n",
      "Percentage of outliers: 0.00%\n",
      "\n",
      "Sample outliers:\n",
      "+-----------+---------+-----------+--------+\n",
      "|ORDERNUMBER|PRICEEACH|PRODUCTLINE|DEALSIZE|\n",
      "+-----------+---------+-----------+--------+\n",
      "+-----------+---------+-----------+--------+\n",
      "\n",
      "\n",
      "Outlier Analysis for SALES\n",
      "Lower Bound: -1148.86\n",
      "Upper Bound: 7820.55\n",
      "Number of outliers: 88\n",
      "Percentage of outliers: 3.12%\n",
      "\n",
      "Sample outliers:\n",
      "+-----------+-------+------------+--------+\n",
      "|ORDERNUMBER|  SALES| PRODUCTLINE|DEALSIZE|\n",
      "+-----------+-------+------------+--------+\n",
      "|      10150|10993.5|Classic Cars|   Large|\n",
      "|      10174|8014.82|Classic Cars|   Large|\n",
      "|      10206|9064.89|Classic Cars|   Large|\n",
      "|      10280|8014.82|Classic Cars|   Large|\n",
      "|      10304|10172.7|Classic Cars|   Large|\n",
      "+-----------+-------+------------+--------+\n",
      "only showing top 5 rows\n",
      "\n",
      "\n",
      "Outlier Analysis for MSRP\n",
      "Lower Bound: -16.00\n",
      "Upper Bound: 208.00\n",
      "Number of outliers: 28\n",
      "Percentage of outliers: 0.99%\n",
      "\n",
      "Sample outliers:\n",
      "+-----------+----+------------+--------+\n",
      "|ORDERNUMBER|MSRP| PRODUCTLINE|DEALSIZE|\n",
      "+-----------+----+------------+--------+\n",
      "|      10103| 214|Classic Cars|  Medium|\n",
      "|      10112| 214|Classic Cars|   Large|\n",
      "|      10126| 214|Classic Cars|   Large|\n",
      "|      10140| 214|Classic Cars|   Large|\n",
      "|      10150| 214|Classic Cars|   Large|\n",
      "+-----------+----+------------+--------+\n",
      "only showing top 5 rows\n",
      "\n"
     ]
    }
   ],
   "source": [
    "# Calculate outliers for all numeric columns at once\n",
    "for col_name in numeric_cols:\n",
    "    # Calculate quartiles\n",
    "    quartiles = df.approxQuantile(col_name, [0.25, 0.75], 0.01)\n",
    "    Q1 = quartiles[0]\n",
    "    Q3 = quartiles[1]\n",
    "    IQR = Q3 - Q1\n",
    "    \n",
    "    lower_bound = Q1 - 1.5 * IQR\n",
    "    upper_bound = Q3 + 1.5 * IQR\n",
    "    \n",
    "    # Add outlier detection columns\n",
    "    df = df.withColumn(\n",
    "        f\"{col_name}_is_outlier\",\n",
    "        (F.col(col_name) < lower_bound) | (F.col(col_name) > upper_bound)\n",
    "    )\n",
    "    \n",
    "    # Print summary statistics\n",
    "    print(f\"\\nOutlier Analysis for {col_name}\")\n",
    "    print(f\"Lower Bound: {lower_bound:.2f}\")\n",
    "    print(f\"Upper Bound: {upper_bound:.2f}\")\n",
    "    \n",
    "    # Count outliers\n",
    "    outlier_count = df.filter(F.col(f\"{col_name}_is_outlier\") == True).count()\n",
    "    total_count = df.count()\n",
    "    outlier_percentage = (outlier_count / total_count) * 100\n",
    "    \n",
    "    print(f\"Number of outliers: {outlier_count}\")\n",
    "    print(f\"Percentage of outliers: {outlier_percentage:.2f}%\")\n",
    "    \n",
    "    # Show sample outliers\n",
    "    print(\"\\nSample outliers:\")\n",
    "    df.filter(F.col(f\"{col_name}_is_outlier\") == True) \\\n",
    "      .select('ORDERNUMBER', col_name, 'PRODUCTLINE', 'DEALSIZE') \\\n",
    "      .show(5)\n"
   ]
  },
  {
   "cell_type": "code",
   "execution_count": 166,
   "metadata": {},
   "outputs": [],
   "source": [
    "#Create a view of all records with any outlier\n",
    "outlier_view = df.filter(\n",
    "    F.array_contains(\n",
    "        F.array(*[F.col(f\"{col}_is_outlier\") for col in numeric_cols]),\n",
    "        True\n",
    "    )\n",
    ")"
   ]
  },
  {
   "cell_type": "code",
   "execution_count": 167,
   "metadata": {},
   "outputs": [
    {
     "name": "stdout",
     "output_type": "stream",
     "text": [
      "\n",
      "Summary of records with any outlier:\n",
      "+-----------+---------------+---------+-------+----+------------+\n",
      "|ORDERNUMBER|QUANTITYORDERED|PRICEEACH|  SALES|MSRP| PRODUCTLINE|\n",
      "+-----------+---------------+---------+-------+----+------------+\n",
      "|      10103|             26|    100.0|5404.62| 214|Classic Cars|\n",
      "|      10112|             29|    100.0|7209.11| 214|Classic Cars|\n",
      "|      10126|             38|    100.0|7329.06| 214|Classic Cars|\n",
      "|      10140|             37|    100.0| 7374.1| 214|Classic Cars|\n",
      "|      10150|             45|    100.0|10993.5| 214|Classic Cars|\n",
      "+-----------+---------------+---------+-------+----+------------+\n",
      "only showing top 5 rows\n",
      "\n"
     ]
    }
   ],
   "source": [
    "print(\"\\nSummary of records with any outlier:\")\n",
    "outlier_view.select(\n",
    "    'ORDERNUMBER',\n",
    "    'QUANTITYORDERED',\n",
    "    'PRICEEACH',\n",
    "    'SALES',\n",
    "    'MSRP',\n",
    "    'PRODUCTLINE'\n",
    ").show(5)"
   ]
  },
  {
   "cell_type": "code",
   "execution_count": 168,
   "metadata": {},
   "outputs": [],
   "source": [
    "# Function to calculate bounds\n",
    "def get_bounds(df, column):\n",
    "    quartiles = df.approxQuantile(column, [0.25, 0.75], 0.01)\n",
    "    Q1, Q3 = quartiles[0], quartiles[1]\n",
    "    IQR = Q3 - Q1\n",
    "    lower_bound = Q1 - 1.5 * IQR\n",
    "    upper_bound = Q3 + 1.5 * IQR\n",
    "    return lower_bound, upper_bound"
   ]
  },
  {
   "cell_type": "code",
   "execution_count": 169,
   "metadata": {},
   "outputs": [],
   "source": [
    "#Capping Method (Winsorization)\n",
    "def cap_outliers(df):\n",
    "    numeric_cols = ['QUANTITYORDERED', 'PRICEEACH', 'SALES', 'MSRP']\n",
    "    df_capped = df\n",
    "    \n",
    "    for col in numeric_cols:\n",
    "        lower_bound, upper_bound = get_bounds(df, col)\n",
    "        \n",
    "        df_capped = df_capped.withColumn(\n",
    "            f\"{col}_capped\",\n",
    "            F.when(F.col(col) < lower_bound, lower_bound)\n",
    "             .when(F.col(col) > upper_bound, upper_bound)\n",
    "             .otherwise(F.col(col))\n",
    "        )\n",
    "    \n",
    "    return df_capped"
   ]
  },
  {
   "cell_type": "code",
   "execution_count": 170,
   "metadata": {},
   "outputs": [],
   "source": [
    "df_capped = cap_outliers(df)\n",
    "df = df_capped"
   ]
  },
  {
   "cell_type": "code",
   "execution_count": 171,
   "metadata": {},
   "outputs": [],
   "source": [
    "# Print summary statistics for each method\n",
    "def print_summary(df_original, df_handled):\n",
    "    print(f\"Original count: {df_original.count()}\")\n",
    "    print(f\"After handling: {df_handled.count()}\")\n",
    "\n",
    "    for col in ['QUANTITYORDERED', 'PRICEEACH', 'SALES', 'MSRP']:\n",
    "        print(f\"\\n{col} statistics:\")\n",
    "        df_handled.select(F.mean(col_name), F.stddev(col_name)).show()"
   ]
  },
  {
   "cell_type": "code",
   "execution_count": 172,
   "metadata": {},
   "outputs": [
    {
     "name": "stdout",
     "output_type": "stream",
     "text": [
      "Original count: 2823\n",
      "After handling: 2823\n",
      "\n",
      "QUANTITYORDERED statistics:\n",
      "+------------------+-----------------+\n",
      "|         avg(MSRP)|     stddev(MSRP)|\n",
      "+------------------+-----------------+\n",
      "|100.71555083244775|40.18791167720266|\n",
      "+------------------+-----------------+\n",
      "\n",
      "\n",
      "PRICEEACH statistics:\n",
      "+------------------+-----------------+\n",
      "|         avg(MSRP)|     stddev(MSRP)|\n",
      "+------------------+-----------------+\n",
      "|100.71555083244775|40.18791167720266|\n",
      "+------------------+-----------------+\n",
      "\n",
      "\n",
      "SALES statistics:\n",
      "+------------------+-----------------+\n",
      "|         avg(MSRP)|     stddev(MSRP)|\n",
      "+------------------+-----------------+\n",
      "|100.71555083244775|40.18791167720266|\n",
      "+------------------+-----------------+\n",
      "\n",
      "\n",
      "MSRP statistics:\n",
      "+------------------+-----------------+\n",
      "|         avg(MSRP)|     stddev(MSRP)|\n",
      "+------------------+-----------------+\n",
      "|100.71555083244775|40.18791167720266|\n",
      "+------------------+-----------------+\n",
      "\n"
     ]
    }
   ],
   "source": [
    "print_summary(df, df_capped)"
   ]
  },
  {
   "cell_type": "code",
   "execution_count": 173,
   "metadata": {},
   "outputs": [],
   "source": "df.write.mode('overwrite').csv('data/processed/sales_data_handled.csv', header=True)"
  },
  {
   "cell_type": "code",
   "execution_count": 175,
   "metadata": {},
   "outputs": [
    {
     "name": "stdout",
     "output_type": "stream",
     "text": [
      "+------------+\n",
      "|ADDRESSLINE2|\n",
      "+------------+\n",
      "|   2nd Floor|\n",
      "|     Level 6|\n",
      "|   Suite 101|\n",
      "|   Suite 750|\n",
      "|     Level 3|\n",
      "|   Suite 400|\n",
      "| Floor No. 4|\n",
      "|   Suite 200|\n",
      "|    Level 15|\n",
      "|NOT PROVIDED|\n",
      "+------------+\n",
      "\n"
     ]
    }
   ],
   "source": [
    "df.select(\"ADDRESSLINE2\").distinct().show()"
   ]
  },
  {
   "cell_type": "code",
   "execution_count": 176,
   "metadata": {},
   "outputs": [
    {
     "name": "stdout",
     "output_type": "stream",
     "text": [
      "Missing Value Check:\n",
      "\n",
      "Numeric Columns Statistics:\n",
      "+-------------------+-------------------+--------------------+----------------------+-------------+-------------+-----------------+------------------+---------+---------+----------------+------------------+--------+--------+------------------+-----------------+\n",
      "|QUANTITYORDERED_min|QUANTITYORDERED_max|QUANTITYORDERED_mean|QUANTITYORDERED_stddev|PRICEEACH_min|PRICEEACH_max|   PRICEEACH_mean|  PRICEEACH_stddev|SALES_min|SALES_max|      SALES_mean|      SALES_stddev|MSRP_min|MSRP_max|         MSRP_mean|      MSRP_stddev|\n",
      "+-------------------+-------------------+--------------------+----------------------+-------------+-------------+-----------------+------------------+---------+---------+----------------+------------------+--------+--------+------------------+-----------------+\n",
      "|                  6|                 97|   35.09280906836698|      9.74144273706958|        26.88|        100.0|83.65854410201929|20.174276527840536|   482.13|  14082.8|3553.88907190932|1841.8651057401842|      33|     214|100.71555083244775|40.18791167720266|\n",
      "+-------------------+-------------------+--------------------+----------------------+-------------+-------------+-----------------+------------------+---------+---------+----------------+------------------+--------+--------+------------------+-----------------+\n",
      "\n",
      "\n",
      "Business Logic Check:\n",
      "+-----------------+--------+\n",
      "|         avg_diff|max_diff|\n",
      "+-----------------+--------+\n",
      "|616.9826638328016|  7536.5|\n",
      "+-----------------+--------+\n",
      "\n",
      "\n",
      "Unique Values in Categorical Columns:\n",
      "\n",
      "STATUS unique values:\n",
      "+----------+-----+\n",
      "|    STATUS|count|\n",
      "+----------+-----+\n",
      "|   Shipped| 2617|\n",
      "| Cancelled|   60|\n",
      "|  Resolved|   47|\n",
      "|   On Hold|   44|\n",
      "|In Process|   41|\n",
      "+----------+-----+\n",
      "only showing top 5 rows\n",
      "\n",
      "\n",
      "PRODUCTLINE unique values:\n",
      "+----------------+-----+\n",
      "|     PRODUCTLINE|count|\n",
      "+----------------+-----+\n",
      "|    Classic Cars|  967|\n",
      "|    Vintage Cars|  607|\n",
      "|     Motorcycles|  331|\n",
      "|          Planes|  306|\n",
      "|Trucks and Buses|  301|\n",
      "+----------------+-----+\n",
      "only showing top 5 rows\n",
      "\n",
      "\n",
      "DEALSIZE unique values:\n",
      "+--------+-----+\n",
      "|DEALSIZE|count|\n",
      "+--------+-----+\n",
      "|  Medium| 1384|\n",
      "|   Small| 1282|\n",
      "|   Large|  157|\n",
      "+--------+-----+\n",
      "\n",
      "\n",
      "COUNTRY unique values:\n",
      "+---------+-----+\n",
      "|  COUNTRY|count|\n",
      "+---------+-----+\n",
      "|      USA| 1004|\n",
      "|    Spain|  342|\n",
      "|   France|  314|\n",
      "|Australia|  185|\n",
      "|       UK|  144|\n",
      "+---------+-----+\n",
      "only showing top 5 rows\n",
      "\n",
      "\n",
      "TERRITORY unique values:\n",
      "+---------+-----+\n",
      "|TERRITORY|count|\n",
      "+---------+-----+\n",
      "|     EMEA| 1407|\n",
      "|       NA| 1074|\n",
      "|     APAC|  221|\n",
      "|    Japan|  121|\n",
      "+---------+-----+\n",
      "\n",
      "\n",
      "Total number of rows: 2823\n",
      "Number of distinct orders: 307\n",
      "\n",
      "Date Range:\n",
      "+-------------------+-----------------+\n",
      "|earliest_year_month|latest_year_month|\n",
      "+-------------------+-----------------+\n",
      "|             200301|           200505|\n",
      "+-------------------+-----------------+\n",
      "\n"
     ]
    }
   ],
   "source": [
    "# Run verification\n",
    "verify_final_dataframe(df)"
   ]
  }
 ],
 "metadata": {
  "kernelspec": {
   "display_name": "myenv",
   "language": "python",
   "name": "python3"
  },
  "language_info": {
   "codemirror_mode": {
    "name": "ipython",
    "version": 3
   },
   "file_extension": ".py",
   "mimetype": "text/x-python",
   "name": "python",
   "nbconvert_exporter": "python",
   "pygments_lexer": "ipython3",
   "version": "3.12.3"
  }
 },
 "nbformat": 4,
 "nbformat_minor": 2
}
